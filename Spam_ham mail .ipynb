{
 "cells": [
  {
   "cell_type": "code",
   "execution_count": 1,
   "id": "8554e075",
   "metadata": {},
   "outputs": [],
   "source": [
    "import pandas as pd \n",
    "import numpy as np\n",
    "import seaborn as sns"
   ]
  },
  {
   "cell_type": "code",
   "execution_count": 2,
   "id": "70546878",
   "metadata": {},
   "outputs": [],
   "source": [
    "\n",
    "# read the CSV file and drop unnamed columnsdf = \n",
    "#pd.read_csv(\"C:/Users/kazit/Downloads/spam_ham.csv\", delimiter=',', names=['text', 'sp_ha'], usecols=[0,1])\n",
    "#drop NaN values\n",
    "#df = df.dropna()\n",
    "# check the resulting DataFramedf.head()"
   ]
  },
  {
   "cell_type": "code",
   "execution_count": 3,
   "id": "40db46e0",
   "metadata": {},
   "outputs": [],
   "source": [
    "df= pd.read_csv('spam_ham.CSV', delimiter=',', names=['text', 'sp_ha'], usecols=[0,1] )\n",
    "df = df.dropna()\n",
    "df = df.drop(index=0)\n"
   ]
  },
  {
   "cell_type": "code",
   "execution_count": 4,
   "id": "7bfa6536",
   "metadata": {
    "scrolled": true
   },
   "outputs": [
    {
     "data": {
      "text/html": [
       "<div>\n",
       "<style scoped>\n",
       "    .dataframe tbody tr th:only-of-type {\n",
       "        vertical-align: middle;\n",
       "    }\n",
       "\n",
       "    .dataframe tbody tr th {\n",
       "        vertical-align: top;\n",
       "    }\n",
       "\n",
       "    .dataframe thead th {\n",
       "        text-align: right;\n",
       "    }\n",
       "</style>\n",
       "<table border=\"1\" class=\"dataframe\">\n",
       "  <thead>\n",
       "    <tr style=\"text-align: right;\">\n",
       "      <th></th>\n",
       "      <th>text</th>\n",
       "      <th>sp_ha</th>\n",
       "    </tr>\n",
       "  </thead>\n",
       "  <tbody>\n",
       "    <tr>\n",
       "      <th>1</th>\n",
       "      <td>From ilug-admin@linux.ie Mon Jul 29 11:28:02 2...</td>\n",
       "      <td>0</td>\n",
       "    </tr>\n",
       "    <tr>\n",
       "      <th>2</th>\n",
       "      <td>From gort44@excite.com Mon Jun 24 17:54:21 200...</td>\n",
       "      <td>1</td>\n",
       "    </tr>\n",
       "    <tr>\n",
       "      <th>3</th>\n",
       "      <td>From fork-admin@xent.com Mon Jul 29 11:39:57 2...</td>\n",
       "      <td>1</td>\n",
       "    </tr>\n",
       "    <tr>\n",
       "      <th>4</th>\n",
       "      <td>From dcm123@btamail.net.cn Mon Jun 24 17:49:23...</td>\n",
       "      <td>1</td>\n",
       "    </tr>\n",
       "    <tr>\n",
       "      <th>5</th>\n",
       "      <td>From ilug-admin@linux.ie Mon Aug 19 11:02:47 2...</td>\n",
       "      <td>0</td>\n",
       "    </tr>\n",
       "    <tr>\n",
       "      <th>...</th>\n",
       "      <td>...</td>\n",
       "      <td>...</td>\n",
       "    </tr>\n",
       "    <tr>\n",
       "      <th>5823</th>\n",
       "      <td>From ilug-admin@linux.ie Mon Jul 22 18:12:45 2...</td>\n",
       "      <td>0</td>\n",
       "    </tr>\n",
       "    <tr>\n",
       "      <th>5824</th>\n",
       "      <td>From fork-admin@xent.com Mon Oct 7 20:37:02 20...</td>\n",
       "      <td>0</td>\n",
       "    </tr>\n",
       "    <tr>\n",
       "      <th>5825</th>\n",
       "      <td>Received: from hq.pro-ns.net (localhost [127.0...</td>\n",
       "      <td>1</td>\n",
       "    </tr>\n",
       "    <tr>\n",
       "      <th>5826</th>\n",
       "      <td>From razor-users-admin@lists.sourceforge.net T...</td>\n",
       "      <td>0</td>\n",
       "    </tr>\n",
       "    <tr>\n",
       "      <th>5827</th>\n",
       "      <td>From rssfeeds@jmason.org Mon Sep 30 13:44:10 2...</td>\n",
       "      <td>0</td>\n",
       "    </tr>\n",
       "  </tbody>\n",
       "</table>\n",
       "<p>5825 rows × 2 columns</p>\n",
       "</div>"
      ],
      "text/plain": [
       "                                                   text sp_ha\n",
       "1     From ilug-admin@linux.ie Mon Jul 29 11:28:02 2...     0\n",
       "2     From gort44@excite.com Mon Jun 24 17:54:21 200...     1\n",
       "3     From fork-admin@xent.com Mon Jul 29 11:39:57 2...     1\n",
       "4     From dcm123@btamail.net.cn Mon Jun 24 17:49:23...     1\n",
       "5     From ilug-admin@linux.ie Mon Aug 19 11:02:47 2...     0\n",
       "...                                                 ...   ...\n",
       "5823  From ilug-admin@linux.ie Mon Jul 22 18:12:45 2...     0\n",
       "5824  From fork-admin@xent.com Mon Oct 7 20:37:02 20...     0\n",
       "5825  Received: from hq.pro-ns.net (localhost [127.0...     1\n",
       "5826  From razor-users-admin@lists.sourceforge.net T...     0\n",
       "5827  From rssfeeds@jmason.org Mon Sep 30 13:44:10 2...     0\n",
       "\n",
       "[5825 rows x 2 columns]"
      ]
     },
     "execution_count": 4,
     "metadata": {},
     "output_type": "execute_result"
    }
   ],
   "source": [
    "df"
   ]
  },
  {
   "cell_type": "code",
   "execution_count": 5,
   "id": "2baad9aa",
   "metadata": {},
   "outputs": [
    {
     "data": {
      "text/html": [
       "<div>\n",
       "<style scoped>\n",
       "    .dataframe tbody tr th:only-of-type {\n",
       "        vertical-align: middle;\n",
       "    }\n",
       "\n",
       "    .dataframe tbody tr th {\n",
       "        vertical-align: top;\n",
       "    }\n",
       "\n",
       "    .dataframe thead th {\n",
       "        text-align: right;\n",
       "    }\n",
       "</style>\n",
       "<table border=\"1\" class=\"dataframe\">\n",
       "  <thead>\n",
       "    <tr style=\"text-align: right;\">\n",
       "      <th></th>\n",
       "      <th>text</th>\n",
       "      <th>sp_ha</th>\n",
       "    </tr>\n",
       "  </thead>\n",
       "  <tbody>\n",
       "    <tr>\n",
       "      <th>1</th>\n",
       "      <td>From ilug-admin@linux.ie Mon Jul 29 11:28:02 2...</td>\n",
       "      <td>0</td>\n",
       "    </tr>\n",
       "    <tr>\n",
       "      <th>2</th>\n",
       "      <td>From gort44@excite.com Mon Jun 24 17:54:21 200...</td>\n",
       "      <td>1</td>\n",
       "    </tr>\n",
       "    <tr>\n",
       "      <th>3</th>\n",
       "      <td>From fork-admin@xent.com Mon Jul 29 11:39:57 2...</td>\n",
       "      <td>1</td>\n",
       "    </tr>\n",
       "    <tr>\n",
       "      <th>4</th>\n",
       "      <td>From dcm123@btamail.net.cn Mon Jun 24 17:49:23...</td>\n",
       "      <td>1</td>\n",
       "    </tr>\n",
       "    <tr>\n",
       "      <th>5</th>\n",
       "      <td>From ilug-admin@linux.ie Mon Aug 19 11:02:47 2...</td>\n",
       "      <td>0</td>\n",
       "    </tr>\n",
       "  </tbody>\n",
       "</table>\n",
       "</div>"
      ],
      "text/plain": [
       "                                                text sp_ha\n",
       "1  From ilug-admin@linux.ie Mon Jul 29 11:28:02 2...     0\n",
       "2  From gort44@excite.com Mon Jun 24 17:54:21 200...     1\n",
       "3  From fork-admin@xent.com Mon Jul 29 11:39:57 2...     1\n",
       "4  From dcm123@btamail.net.cn Mon Jun 24 17:49:23...     1\n",
       "5  From ilug-admin@linux.ie Mon Aug 19 11:02:47 2...     0"
      ]
     },
     "execution_count": 5,
     "metadata": {},
     "output_type": "execute_result"
    }
   ],
   "source": [
    "df.head()"
   ]
  },
  {
   "cell_type": "code",
   "execution_count": 6,
   "id": "495d4336",
   "metadata": {},
   "outputs": [
    {
     "data": {
      "text/plain": [
       "0                                                                                                                                                                                                                                                                                                                                                                                                                                                                                                                                            3911\n",
       "1                                                                                                                                                                                                                                                                                                                                                                                                                                                                                                                                            1912\n",
       " WebCrawler                                                                                                                                                                                                                                                                                                                                                                                                                                                                                                                                     1\n",
       " which will make unison use whatever version of ssh is installed as the default 'ssh' command.) + The situation when the permissions of a file was updated the same on both side is now handled correctly (we used to report a spurious conflict) * Improvements for the Windows version: + The fact that filenames are treated case-insensitively under Windows should now be handled correctly. The exact behavior is described in the cross-platform section of the manual. + It should be possible to synchronize with Windows shares       1\n",
       "Name: sp_ha, dtype: int64"
      ]
     },
     "execution_count": 6,
     "metadata": {},
     "output_type": "execute_result"
    }
   ],
   "source": [
    "df['sp_ha'].value_counts()"
   ]
  },
  {
   "cell_type": "code",
   "execution_count": 7,
   "id": "8a157609",
   "metadata": {},
   "outputs": [],
   "source": [
    "df.drop_duplicates(inplace= True)"
   ]
  },
  {
   "cell_type": "code",
   "execution_count": 8,
   "id": "eaf4c2e7",
   "metadata": {},
   "outputs": [
    {
     "data": {
      "text/html": [
       "<div>\n",
       "<style scoped>\n",
       "    .dataframe tbody tr th:only-of-type {\n",
       "        vertical-align: middle;\n",
       "    }\n",
       "\n",
       "    .dataframe tbody tr th {\n",
       "        vertical-align: top;\n",
       "    }\n",
       "\n",
       "    .dataframe thead th {\n",
       "        text-align: right;\n",
       "    }\n",
       "</style>\n",
       "<table border=\"1\" class=\"dataframe\">\n",
       "  <thead>\n",
       "    <tr style=\"text-align: right;\">\n",
       "      <th></th>\n",
       "      <th>text</th>\n",
       "      <th>sp_ha</th>\n",
       "    </tr>\n",
       "  </thead>\n",
       "  <tbody>\n",
       "    <tr>\n",
       "      <th>1</th>\n",
       "      <td>From ilug-admin@linux.ie Mon Jul 29 11:28:02 2...</td>\n",
       "      <td>0</td>\n",
       "    </tr>\n",
       "    <tr>\n",
       "      <th>2</th>\n",
       "      <td>From gort44@excite.com Mon Jun 24 17:54:21 200...</td>\n",
       "      <td>1</td>\n",
       "    </tr>\n",
       "    <tr>\n",
       "      <th>3</th>\n",
       "      <td>From fork-admin@xent.com Mon Jul 29 11:39:57 2...</td>\n",
       "      <td>1</td>\n",
       "    </tr>\n",
       "    <tr>\n",
       "      <th>4</th>\n",
       "      <td>From dcm123@btamail.net.cn Mon Jun 24 17:49:23...</td>\n",
       "      <td>1</td>\n",
       "    </tr>\n",
       "    <tr>\n",
       "      <th>5</th>\n",
       "      <td>From ilug-admin@linux.ie Mon Aug 19 11:02:47 2...</td>\n",
       "      <td>0</td>\n",
       "    </tr>\n",
       "    <tr>\n",
       "      <th>...</th>\n",
       "      <td>...</td>\n",
       "      <td>...</td>\n",
       "    </tr>\n",
       "    <tr>\n",
       "      <th>5823</th>\n",
       "      <td>From ilug-admin@linux.ie Mon Jul 22 18:12:45 2...</td>\n",
       "      <td>0</td>\n",
       "    </tr>\n",
       "    <tr>\n",
       "      <th>5824</th>\n",
       "      <td>From fork-admin@xent.com Mon Oct 7 20:37:02 20...</td>\n",
       "      <td>0</td>\n",
       "    </tr>\n",
       "    <tr>\n",
       "      <th>5825</th>\n",
       "      <td>Received: from hq.pro-ns.net (localhost [127.0...</td>\n",
       "      <td>1</td>\n",
       "    </tr>\n",
       "    <tr>\n",
       "      <th>5826</th>\n",
       "      <td>From razor-users-admin@lists.sourceforge.net T...</td>\n",
       "      <td>0</td>\n",
       "    </tr>\n",
       "    <tr>\n",
       "      <th>5827</th>\n",
       "      <td>From rssfeeds@jmason.org Mon Sep 30 13:44:10 2...</td>\n",
       "      <td>0</td>\n",
       "    </tr>\n",
       "  </tbody>\n",
       "</table>\n",
       "<p>5322 rows × 2 columns</p>\n",
       "</div>"
      ],
      "text/plain": [
       "                                                   text sp_ha\n",
       "1     From ilug-admin@linux.ie Mon Jul 29 11:28:02 2...     0\n",
       "2     From gort44@excite.com Mon Jun 24 17:54:21 200...     1\n",
       "3     From fork-admin@xent.com Mon Jul 29 11:39:57 2...     1\n",
       "4     From dcm123@btamail.net.cn Mon Jun 24 17:49:23...     1\n",
       "5     From ilug-admin@linux.ie Mon Aug 19 11:02:47 2...     0\n",
       "...                                                 ...   ...\n",
       "5823  From ilug-admin@linux.ie Mon Jul 22 18:12:45 2...     0\n",
       "5824  From fork-admin@xent.com Mon Oct 7 20:37:02 20...     0\n",
       "5825  Received: from hq.pro-ns.net (localhost [127.0...     1\n",
       "5826  From razor-users-admin@lists.sourceforge.net T...     0\n",
       "5827  From rssfeeds@jmason.org Mon Sep 30 13:44:10 2...     0\n",
       "\n",
       "[5322 rows x 2 columns]"
      ]
     },
     "execution_count": 8,
     "metadata": {},
     "output_type": "execute_result"
    }
   ],
   "source": [
    "df"
   ]
  },
  {
   "cell_type": "code",
   "execution_count": 9,
   "id": "f29d9a1a",
   "metadata": {},
   "outputs": [
    {
     "data": {
      "text/plain": [
       "text     0\n",
       "sp_ha    0\n",
       "dtype: int64"
      ]
     },
     "execution_count": 9,
     "metadata": {},
     "output_type": "execute_result"
    }
   ],
   "source": [
    "df.isnull().sum()"
   ]
  },
  {
   "cell_type": "code",
   "execution_count": 10,
   "id": "12bee12b",
   "metadata": {},
   "outputs": [],
   "source": [
    "x=df.text.values"
   ]
  },
  {
   "cell_type": "code",
   "execution_count": 11,
   "id": "471e61a2",
   "metadata": {},
   "outputs": [
    {
     "data": {
      "text/plain": [
       "array([\"From ilug-admin@linux.ie Mon Jul 29 11:28:02 2002 Return-Path: <ilug-admin@linux.ie> Delivered-To: yyyy@localhost.netnoteinc.com Received: from localhost (localhost [127.0.0.1]) by phobos.labs.netnoteinc.com (Postfix) with ESMTP id A13D94414F for <jm@localhost>; Mon, 29 Jul 2002 06:25:11 -0400 (EDT) Received: from phobos [127.0.0.1] by localhost with IMAP (fetchmail-5.9.0) for jm@localhost (single-drop); Mon, 29 Jul 2002 11:25:11 +0100 (IST) Received: from lugh.tuatha.org (root@lugh.tuatha.org [194.125.145.45]) by dogma.slashnull.org (8.11.6/8.11.6) with ESMTP id g6RHn7i17130 for <jm-ilug@jmason.org>; Sat, 27 Jul 2002 18:49:07 +0100 Received: from lugh (root@localhost [127.0.0.1]) by lugh.tuatha.org (8.9.3/8.9.3) with ESMTP id SAA25016; Sat, 27 Jul 2002 18:45:03 +0100 X-Authentication-Warning: lugh.tuatha.org: Host root@localhost [127.0.0.1] claimed to be lugh Received: from mail1.mail.iol.ie (mail1.mail.iol.ie [194.125.2.192]) by lugh.tuatha.org (8.9.3/8.9.3) with ESMTP id SAA24977 for <ilug@linux.ie>; Sat, 27 Jul 2002 18:44:56 +0100 Received: from dialup125-a.ts551.cwt.esat.net ([193.203.140.125] helo=Hobbiton.cod.ie) by mail1.mail.iol.ie with esmtp (Exim 3.35 #1) id 17YVVF-0001W4-00 for ilug@linux.ie; Sat, 27 Jul 2002 18:37:18 +0100 Received: (from cdaly@localhost) by Hobbiton.cod.ie (8.11.6/8.9.3) id g6RDRoO04681 for ilug@linux.ie; Sat, 27 Jul 2002 14:27:50 +0100 Date: Sat, 27 Jul 2002 14:27:49 +0100 From: Conor Daly <conor.daly@oceanfree.net> To: ILUG main list <ilug@linux.ie> Subject: Re: [ILUG] Architecture crossover trouble w RH7.2 (solved) Message-Id: <20020727142749.B4438@Hobbiton.cod.ie> Mail-Followup-To: ILUG main list <ilug@linux.ie> References: <0D443C91DCE9CD40B1C795BA222A729E018854FA@milexc01.maxtor.com> MIME-Version: 1.0 Content-Type: text/plain; charset=us-ascii Content-Disposition: inline User-Agent: Mutt/1.2.5i In-Reply-To: <0D443C91DCE9CD40B1C795BA222A729E018854FA@milexc01.maxtor.com>; from conor_wynne@maxtor.com on Fri, Jul 26, 2002 at 03:56:22PM +0100 Sender: ilug-admin@linux.ie Errors-To: ilug-admin@linux.ie X-Mailman-Version: 1.1 Precedence: bulk List-Id: Irish Linux Users' Group <ilug.linux.ie> X-Beenthere: ilug@linux.ie On Fri, Jul 26, 2002 at 03:56:22PM +0100 or so it is rumoured hereabouts, Wynne, Conor thought: > Surely it would be faster to save you conf files, install it on the box > again, copy back you confs and voila. > All you car about are the confs as the boite has no DATA right? Yeah, but then I'd have to remember _exactly_ which confs I'd modified and they're not all in /etc either... > Thats what I would do, but you sysadmins have to make life as difficult & > complicated as possible ;--) Yup... In this case, I had two issues. 1. I mirrored the disk to give to someone else to work on but the box he has available has only a P1 or P2 processor. 2. My celeron box has been crashing the backup software so I wanted to try out the backup in a different box to make sure it's hardware related. Again, it's also an interesting exercise... > Have you thought about mirroring the system drives? Might save you serious > hassle down the line. Oh, I'm doing that too. This is going to Africa so I'm aiming for as robust as possible with belt, braces and probably an all-in-one jumpsuit! I'll be mirroring the disk but that is worth only so much (eg. lightning strike taking out the disk(s) or system compromise) I'm also going for a backup to CDR with an automated restore http://www.mondorescue.org . The admin out there wouldn't be able to build the system again if the mobo got fried and the replacement was the wrong arch but an i386 compatible install will mean just dropping in the HD and booting (ish)... Conor -- Conor Daly <conor.daly@oceanfree.net> Domestic Sysadmin :-) --------------------- Faenor.cod.ie 2:32pm up 64 days, 23:49, 0 users, load average: 0.00, 0.00, 0.00 Hobbiton.cod.ie 2:19pm up 7 days, 20:56, 1 user, load average: 0.05, 0.02, 0.00 -- Irish Linux Users' Group: ilug@linux.ie http://www.linux.ie/mailman/listinfo/ilug for (un)subscription information. List maintainer: listmaster@linux.ie\",\n",
       "       'From gort44@excite.com Mon Jun 24 17:54:21 2002 Return-Path: gort44@excite.com Delivery-Date: Tue Jun 4 05:31:16 2002 Received: from mandark.labs.netnoteinc.com ([213.105.180.140]) by dogma.slashnull.org (8.11.6/8.11.6) with ESMTP id g544VFO20182 for <jm@jmason.org>; Tue, 4 Jun 2002 05:31:15 +0100 Received: from wi-poli.poli.cl ([200.54.149.34]) by mandark.labs.netnoteinc.com (8.11.2/8.11.2) with SMTP id g544VC729935; Tue, 4 Jun 2002 05:31:13 +0100 Received: from 216.77.61.89 (unverified [218.5.180.148]) by wi-poli.poli.cl (EMWAC SMTPRS 0.83) with SMTP id <B0000918901@wi-poli.poli.cl>; Tue, 04 Jun 2002 00:14:29 -0400 Message-Id: <B0000918901@wi-poli.poli.cl> To: <chrbader@telecom.at> From: \"irese\" <gort44@excite.com> Subject: Cash in on your home equity Date: Tue, 04 Jun 2002 00:18:34 -1600 MIME-Version: 1.0 Content-Type: text/plain; charset=\"Windows-1252\" X-Keywords: Content-Transfer-Encoding: 7bit Mortgage Lenders & Brokers Are Ready to compete for your business. Whether a new home loan is what you seek or to refinance your current home loan at a lower interest rate, we can help! Mortgage rates haven\\'t been this low in years take action now! Refinance your home with us and include all of those pesky credit card bills or use the extra cash for that pool you\\'ve always wanted... Where others say NO, we say YES!!! Even if you have been turned down elsewhere, we can help! Easy terms! Our mortgage referral service combines the highest quality loans with the most economical rates and the easiest qualifications! Take just 2 minutes to complete the following form. There is no obligation, all information is kept strictly confidential, and you must be at least 18 years of age. Service is available within the United States only. This service is fast and free. Free information request form: PLEASE VISIT http://builtit4unow.com/pos **************************************************************** Since you have received this message you have either responded to one of our offers in the past or your address has been registered with us. If you wish to \"OPT_OUT\" please visit: http://builtit4unow.com/pos ****************************************************************',\n",
       "       'From fork-admin@xent.com Mon Jul 29 11:39:57 2002 Return-Path: <fork-admin@xent.com> Delivered-To: yyyy@localhost.netnoteinc.com Received: from localhost (localhost [127.0.0.1]) by phobos.labs.netnoteinc.com (Postfix) with ESMTP id 0F3F544165 for <jm@localhost>; Mon, 29 Jul 2002 06:34:20 -0400 (EDT) Received: from phobos [127.0.0.1] by localhost with IMAP (fetchmail-5.9.0) for jm@localhost (single-drop); Mon, 29 Jul 2002 11:34:20 +0100 (IST) Received: from webnote.net (mail.webnote.net [193.120.211.219]) by dogma.slashnull.org (8.11.6/8.11.6) with ESMTP id g6RAEOi18890 for <jm@JMASON.ORG>; Sat, 27 Jul 2002 11:14:24 +0100 Received: from xent.com ([64.161.22.236]) by webnote.net (8.9.3/8.9.3) with ESMTP id EAA15163 for <jm@jmason.org>; Sat, 27 Jul 2002 04:01:07 +0100 Received: from lair.xent.com (localhost [127.0.0.1]) by xent.com (Postfix) with ESMTP id 6B8432940A3; Fri, 26 Jul 2002 20:00:08 -0700 (PDT) Delivered-To: fork@spamassassin.taint.org Received: from bolehmail.com (unknown [61.241.232.250]) by xent.com (Postfix) with SMTP id 6EBF629409B; Fri, 26 Jul 2002 19:59:17 -0700 (PDT) Received: from unknown (HELO f64.law4.hottestmale.com) (76.28.45.69) by f64.law4.hottestmale.com with asmtp; 26 Jul 0102 15:08:45 -0500 Received: from unknown (71.24.157.182) by rly-yk04.aolmd.com with local; 26 Jul 0102 10:07:54 +0200 Received: from unknown (HELO smtp013.mail.yahou.com) (143.180.211.131) by rly-yk04.aolmd.com with asmtp; Fri, 26 Jul 0102 12:07:03 +1200 Received: from 46.67.186.19 ([46.67.186.19]) by q4.quickslow.com with asmtp; Sat, 27 Jul 0102 00:06:12 +0300 Reply-To: <5447q67@bolehmail.com> Message-Id: <026a52b71b5e$3662d2e5$0cb01ad7@idrpqw> From: <5447q67@bolehmail.com> To: <fork-request@xent.com>, <fork@spamassassin.taint.org> Subject: Are Your Mortgage Rates The Best They Can Be........ 0922LkVT8-113rFxd3342c-21 MIME-Version: 1.0 Content-Type: text/plain; charset=\"us-ascii\" X-Priority: 3 (Normal) X-Msmail-Priority: Normal X-Mailer: Microsoft Outlook Express 5.50.4522.1200 Importance: Normal Sender: fork-admin@xent.com Errors-To: fork-admin@xent.com X-Beenthere: fork@spamassassin.taint.org X-Mailman-Version: 2.0.11 Precedence: bulk List-Help: <mailto:fork-request@xent.com?subject=help> List-Post: <mailto:fork@spamassassin.taint.org> List-Subscribe: <http://xent.com/mailman/listinfo/fork>, <mailto:fork-request@xent.com?subject=subscribe> List-Id: Friends of Rohit Khare <fork.xent.com> List-Unsubscribe: <http://xent.com/mailman/listinfo/fork>, <mailto:fork-request@xent.com?subject=unsubscribe> List-Archive: <http://xent.com/pipermail/fork/> Date: Fri, 26 Jul 0102 18:03:12 +0900 Content-Transfer-Encoding: 8bit Dear Homeowner, Interest Rates are at their lowest point in 40 years! We help you find the best rate for your situation by matching your needs with hundreds of lenders! Home Improvement, Refinance, Second Mortgage, Home Equity Loans, and much, much more! You\\'re eligible even with less than perfect credit! This service is 100% FREE to home owners and new home buyers without any obligation. Where others say NO, we say YES!!! http://www243.wiildaccess.com Take just 2 minutes to complete the following form. There is no obligation, all information is kept strictly confidential, and you must be at least 18 years of age. Service is available within the United States only. This service is fast and free. http://www243.wiildaccess.com +++++++++++++++++++++++++++++++++++++++++++++++++++++++++++++++ To opt out: http://www243.wiildaccess.com/optout.html 8960ryoE6-752DjSn8958wQDd4-522UPqi8940xzrR4-094LKl46 http://xent.com/mailman/listinfo/fork',\n",
       "       ...,\n",
       "       'Received: from hq.pro-ns.net (localhost [127.0.0.1]) by hq.pro-ns.net (8.12.5/8.12.5) with ESMTP id g6LLbBCU047091 (version=TLSv1/SSLv3 cipher=EDH-DSS-DES-CBC3-SHA bits=168 verify=NO) for <cypherpunks-forward@ds.pro-ns.net>; Sun, 21 Jul 2002 16:37:12 -0500 (CDT) (envelope-from cpunks@hq.pro-ns.net) Received: (from cpunks@localhost) by hq.pro-ns.net (8.12.5/8.12.5/Submit) id g6LLbBB7047086 for cypherpunks-forward@ds.pro-ns.net; Sun, 21 Jul 2002 16:37:11 -0500 (CDT) Received: from einstein.ssz.com (cpunks@[207.200.56.4]) by hq.pro-ns.net (8.12.5/8.12.5) with ESMTP id g6LLb8CT047066 for <cypherpunks@ds.pro-ns.net>; Sun, 21 Jul 2002 16:37:09 -0500 (CDT) (envelope-from cpunks@einstein.ssz.com) X-Authentication-Warning: hq.pro-ns.net: Host cpunks@[207.200.56.4] claimed to be einstein.ssz.com Received: (from cpunks@localhost) by einstein.ssz.com (8.8.8/8.8.8) id QAA15321 for cypherpunks@ds.pro-ns.net; Sun, 21 Jul 2002 16:45:15 -0500 Received: (from mdom@localhost) by einstein.ssz.com (8.8.8/8.8.8) id QAA15311 for cypherpunks-outgoing; Sun, 21 Jul 2002 16:44:48 -0500 Received: from s1089.mb00.net (s1089.mb00.net [207.33.16.89]) by einstein.ssz.com (8.8.8/8.8.8) with ESMTP id QAA15307 for <cypherpunks@einstein.ssz.com>; Sun, 21 Jul 2002 16:44:37 -0500 Received: (from pmguser@localhost) by s1089.mb00.net (8.8.8pmg/8.8.5) id NAA89585 for :include:/usr/home/pmguser/pmgs/users/ebargains/delivery/1026932205.4671/rblk.9649; Sun, 21 Jul 2002 13:59:24 -0700 (PDT) Message-Id: <200207212059.NAA89585@s1089.mb00.net> From: Ebargains <ebargains@reply.mb00.net> To: cypherpunks@einstein.ssz.com X-Info: Message sent by MindShare Design customer with ID \"ebargains\" X-Info: Report abuse to list owner at ebargains@complaints.mb00.net X-PMG-Userid: ebargains X-PMG-Msgid: 1026932205.4671 X-PMG-Recipient: cypherpunks@einstein.ssz.com Subject: Real Drugs-Viagra and Phentrimine! Date: Sun, 21 Jul 2002 16:46:01 EDT MIME-Version: 1.0 Content-Type: text/html; charset=\"iso-8859-1\" Sender: owner-cypherpunks@einstein.ssz.com Precedence: bulk Reply-To: cypherpunks@einstein.ssz.com X-Mailing-List: cypherpunks@ssz.com X-Unsubscription-Info: http://einstein.ssz.com/cdr X-List-Admin: list@ssz.com X-Loop: ssz.com X-Acceptable-Languages: English, Russian, German, French, Spanish <html> <head> <meta http-equiv=\"Content-Type\" content=\"text/html; charset=iso-8859-1\"> </head> <body bgcolor=\"#00CCCC\" text=\"#000000\"> <table width=\"400\" border=\"0\" cellspacing=\"1\" cellpadding=\"8\" bgcolor=\"#000000\" align=\"center\"> <tr> <td bgcolor=\"#FFFFFF\" align=\"center\"> <font size=\"3\"><b><font face=\"Arial, Helvetica, sans-serif\">Real Drugs - Viagra and Phentrimine</font></b></font> <hr size=\"1\" noshade> <center> <font size=\"3\"><b><font face=\"Arial, Helvetica, sans-serif\">Order all you favorite drugs on line. <br> </font></b></font> <hr size=\"1\" noshade> <font size=\"3\"><b><font face=\"Arial, Helvetica, sans-serif\"><a href=\"http://r.mb00.net/s/c?1dx.2pdp.1.fne.fsi52 \">Click Here For Viagra, Phentrimine and more!</a></font> </b> </font> </center> </td> </tr> </table> </body> </html> <HTML> <BR><BR> <CENTER> <TABLE WIDTH=\"540\" CELLSPACING=2 CELLPADDING=3 BORDER=0> <FORM METHOD=GET ACTION=\"http://i.mb00.net/cgi-bin/pmg_subscribe.pl\"> <TR> <TD BGCOLOR=\"#DDDDDD\"> <FONT FACE=\"helvetica,arial\" SIZE=\"-1\" COLOR=\"#000000\"> <I>Remove yourself from this list by either:</I> </FONT> </TD> </TR> <TR> <TD BGCOLOR=\"#EEEEEE\"> <FONT FACE=\"helvetica,arial\" SIZE=\"-1\" COLOR=\"#000000\"> Entering your email address below and clicking REMOVE:<BR> <CENTER> <INPUT TYPE=\"hidden\" NAME=\"list\" VALUE=\"ebargains:*\"> <INPUT TYPE=\"hidden\" NAME=\"server_action\" VALUE=\"Unsubscribe\"> <INPUT TYPE=\"text\" NAME=\"email_address\" VALUE=\"cypherpunks@einstein.ssz.com\" SIZE=25></FONT> <INPUT TYPE=\"submit\" VALUE=\"REMOVE\"> </CENTER> </FONT> </TD> </TR> <TR ALIGN=\"CENTER\"> <TD> <FONT FACE=\"helvetica,arial\" SIZE=\"-1\" COLOR=\"#000000\"> <B><I>OR</I></B> </FONT> </TD> </TR> <TR> <TD BGCOLOR=\"#EEEEEE\"> <FONT FACE=\"helvetica,arial\" SIZE=\"-1\" COLOR=\"#000000\"> Reply to this message with the word &quot;remove&quot; in the subject line. </FONT> </TD> </TR> </FORM> <TR ALIGN=\"CENTER\"> <TD BGCOLOR=\"#FFFFFF\" ALIGN=\"CENTER\"> <FONT FACE=\"helvetica,arial\" SIZE=\"1\" COLOR=\"#000000\"> This message was sent to address cypherpunks@einstein.ssz.com </FONT> <!-- X-PMG-Recipient: cypherpunks@einstein.ssz.com X-PMG-Msgid: 1026932205.4671 X-PMG-Userid: ebargains:* --> <DIV ALIGN=\"CENTER\"> <FONT FACE=\"helvetica,arial\" SIZE=\"1\" COLOR=\"#AAAAAA\">pmguid:1dx.2pdp.fsi52</FONT></DIV><BR CLEAR=\"ALL\"> <IMG SRC=\"http://r.mb00.net/s/o?1dx.2pdp.0.fsi52\" WIDTH=33 HEIGHT=12 BORDER=0 ALIGN=\"RIGHT\" ALT=\"pmg\"> </TD> </TR> </TABLE> </CENTER> </HTML> --DeathToSpamDeathToSpamDeathToSpam-- ------------------------------------------------------- This sf.net email is sponsored by:ThinkGeek Welcome to geek heaven. http://thinkgeek.com/sf _______________________________________________ Spamassassin-Sightings mailing list Spamassassin-Sightings@lists.sourceforge.net https://lists.sourceforge.net/lists/listinfo/spamassassin-sightings',\n",
       "       'From razor-users-admin@lists.sourceforge.net Thu Sep 12 18:44:30 2002 Return-Path: <razor-users-admin@example.sourceforge.net> Delivered-To: yyyy@localhost.spamassassin.taint.org Received: from localhost (jalapeno [127.0.0.1]) by jmason.org (Postfix) with ESMTP id 5A6B916F03 for <jm@localhost>; Thu, 12 Sep 2002 18:44:25 +0100 (IST) Received: from jalapeno [127.0.0.1] by localhost with IMAP (fetchmail-5.9.0) for jm@localhost (single-drop); Thu, 12 Sep 2002 18:44:25 +0100 (IST) Received: from usw-sf-list2.sourceforge.net (usw-sf-fw2.sourceforge.net [216.136.171.252]) by dogma.slashnull.org (8.11.6/8.11.6) with ESMTP id g8CGEGC06093 for <jm-razor@jmason.org>; Thu, 12 Sep 2002 17:14:17 +0100 Received: from usw-sf-list1-b.sourceforge.net ([10.3.1.13] helo=usw-sf-list1.sourceforge.net) by usw-sf-list2.sourceforge.net with esmtp (Exim 3.31-VA-mm2 #1 (Debian)) id 17pWUu-0003nn-00; Thu, 12 Sep 2002 09:07:16 -0700 Received: from wow.atlasta.net ([12.129.13.20]) by usw-sf-list1.sourceforge.net with esmtp (Exim 3.31-VA-mm2 #1 (Debian)) id 17pWUY-00030r-00 for <razor-users@lists.sourceforge.net>; Thu, 12 Sep 2002 09:06:54 -0700 Received: from wow.atlasta.net (localhost.atlasta.net [127.0.0.1]) by wow.atlasta.net (8.12.2/8.12.2) with ESMTP id g8CG6rJI034502; Thu, 12 Sep 2002 09:06:53 -0700 (PDT) Received: from localhost (drais@localhost) by wow.atlasta.net (8.12.2/8.12.2/Submit) with ESMTP id g8CG6rKT034499; Thu, 12 Sep 2002 09:06:53 -0700 (PDT) From: David Raistrick <drais@wow.atlasta.net> To: \"Rose, Bobby\" <brose@med.wayne.edu> Cc: razor-users@example.sourceforge.net In-Reply-To: <D79A56AD131896448D0860DEE07CBE1F3BACA9@med-core07.med.wayne.edu> Message-Id: <Pine.BSF.4.21.0209120845130.19863-100000@wow.atlasta.net> MIME-Version: 1.0 Content-Type: TEXT/PLAIN; charset=US-ASCII Subject: [Razor-users] no positive razor hits? Sender: razor-users-admin@example.sourceforge.net Errors-To: razor-users-admin@example.sourceforge.net X-Beenthere: razor-users@example.sourceforge.net X-Mailman-Version: 2.0.9-sf.net Precedence: bulk List-Help: <mailto:razor-users-request@example.sourceforge.net?subject=help> List-Post: <mailto:razor-users@example.sourceforge.net> List-Subscribe: <https://example.sourceforge.net/lists/listinfo/razor-users>, <mailto:razor-users-request@lists.sourceforge.net?subject=subscribe> List-Id: <razor-users.example.sourceforge.net> List-Unsubscribe: <https://example.sourceforge.net/lists/listinfo/razor-users>, <mailto:razor-users-request@lists.sourceforge.net?subject=unsubscribe> List-Archive: <http://www.geocrawler.com/redir-sf.php3?list=razor-users> X-Original-Date: Thu, 12 Sep 2002 09:06:53 -0700 (PDT) Date: Thu, 12 Sep 2002 09:06:53 -0700 (PDT) On Tue, 10 Sep 2002, Rose, Bobby wrote: > Use the sample-spam.txt from Spamassassin and do a \"razor-check -d < > sample-spam.txt\" Interesting. I just upgraded to razor-agents 2.14 yesterday, ran razor-admin -register. I to am seeing that I\\'m not getting any positives from razor. Including the sample-spam.txt\\'s from spamassassin 2.41, 2.31, and 2.20. Any suggestions? thanks. -d output below maxwell:/var/qmail/alias/gb-users%# razor-check -d < /usr/local/src/Mail-SpamAssassin-2.20/sample-spam.txt Razor-Log: Computed razorhome from env: /root/.razor Razor-Log: Found razorhome: /root/.razor Razor-Log: No /root/.razor/razor-agent.conf found, skipping. Razor-Log: No razor-agent.conf found, using defaults. Sep 12 12:04:13.785852 check[52238]: [ 1] [bootup] Logging initiated LogDebugLevel=9 to stdout Sep 12 12:04:13.787113 check[52238]: [ 5] computed razorhome=/root/.razor, conf=, ident=/root/.razor/identity-ruqVa5jbuS Sep 12 12:04:13.787442 check[52238]: [ 2] Razor-Agents v2.14 starting razor-check -d Sep 12 12:04:13.789903 check[52238]: [ 9] uname -a: FreeBSD maxwell.gta.com 4.5-RELEASE-p3 FreeBSD 4.5-RELEASE-p3 #0: Wed May 22 14:52:29 EDT 2002 root@maxwell.gta.com:/usr/src/sys/compile/maxwell i386 Sep 12 12:04:13.790480 check[52238]: [ 8] reading straight RFC822 mail from <stdin> Sep 12 12:04:13.791397 check[52238]: [ 6] read 1 mail Sep 12 12:04:13.791917 check[52238]: [ 8] Client supported_engines: 1 2 3 4 Sep 12 12:04:13.792948 check[52238]: [ 8] prep_mail done: mail 1 headers=1432, mime0=3139 Sep 12 12:04:13.793639 check[52238]: [ 6] skipping whitelist file (empty?): /root/.razor/razor-whitelist Sep 12 12:04:13.794295 check[52238]: [ 5] read_file: 1 items read from /root/.razor/servers.discovery.lst Sep 12 12:04:13.794871 check[52238]: [ 5] read_file: 1 items read from /root/.razor/servers.nomination.lst Sep 12 12:04:13.795382 check[52238]: [ 5] read_file: 3 items read from /root/.razor/servers.catalogue.lst Sep 12 12:04:13.796047 check[52238]: [ 9] Assigning defaults to honor.cloudmark.com Sep 12 12:04:13.796456 check[52238]: [ 9] Assigning defaults to apt.cloudmark.com Sep 12 12:04:13.796829 check[52238]: [ 9] Assigning defaults to fire.cloudmark.com Sep 12 12:04:13.797180 check[52238]: [ 9] Assigning defaults to truth.cloudmark.com Sep 12 12:04:13.798322 check[52238]: [ 5] read_file: 11 items read from /root/.razor/server.apt.cloudmark.com.conf Sep 12 12:04:13.799188 check[52238]: [ 5] read_file: 11 items read from /root/.razor/server.honor.cloudmark.com.conf Sep 12 12:04:13.799866 check[52238]: [ 5] 96778 seconds before closest server discovery Sep 12 12:04:13.800342 check[52238]: [ 6] apt.cloudmark.com is a Catalogue Server srl 51; computed min_cf=1, Server se: 0A Sep 12 12:04:13.800818 check[52238]: [ 8] Computed supported_engines: 2 4 Sep 12 12:04:13.801167 check[52238]: [ 8] Using next closest server apt.cloudmark.com:2703, cached info srl 51 Sep 12 12:04:13.801513 check[52238]: [ 8] mail 1 Subject: Home Based Business for Grownups Sep 12 12:04:13.805467 check[52238]: [ 6] preproc: mail 1.0 went from 3139 bytes to 3100 Sep 12 12:04:13.805878 check[52238]: [ 6] computing sigs for mail 1.0, len 3100 Sep 12 12:04:13.809475 check[52238]: [ 5] Connecting to apt.cloudmark.com ... Sep 12 12:04:18.587441 check[52238]: [ 8] Connection established Sep 12 12:04:18.587929 check[52238]: [ 4] apt.cloudmark.com >> 29 server greeting: sn=C&srl=51&ep4=7542-10&a=l Sep 12 12:04:18.588562 check[52238]: [ 6] apt.cloudmark.com is a Catalogue Server srl 51; computed min_cf=1, Server se: 0A Sep 12 12:04:18.589041 check[52238]: [ 8] Computed supported_engines: 2 4 Sep 12 12:04:18.589432 check[52238]: [ 8] mail 1.0 e2 sig: PGFfFte87P3Ve-CPTdu3NWgiBikA Sep 12 12:04:18.589751 check[52238]: [ 8] mail 1.0 e4 sig: k6oGZsa1AvVolyvalWx2AACdWb8A Sep 12 12:04:18.590103 check[52238]: [ 8] preparing 2 queries Sep 12 12:04:18.590638 check[52238]: [ 8] sending 1 batches Sep 12 12:04:18.591087 check[52238]: [ 4] apt.cloudmark.com << 96 Sep 12 12:04:18.591324 check[52238]: [ 6] -a=c&e=2&s=PGFfFte87P3Ve-CPTdu3NWgiBikA a=c&e=4&ep4=7542-10&s=k6oGZsa1AvVolyvalWx2AACdWb8A . Sep 12 12:04:19.270870 check[52238]: [ 4] apt.cloudmark.com >> 14 Sep 12 12:04:19.271227 check[52238]: [ 6] response to sent.1 -p=0 p=0 . Sep 12 12:04:19.272130 check[52238]: [ 6] mail 1.0 e=2 sig=PGFfFte87P3Ve-CPTdu3NWgiBikA: sig not found. Sep 12 12:04:19.272449 check[52238]: [ 6] mail 1.0 e=4 sig=k6oGZsa1AvVolyvalWx2AACdWb8A: sig not found. Sep 12 12:04:19.272760 check[52238]: [ 7] method 5: mail 1.0: no-contention part, spam=0 Sep 12 12:04:19.273012 check[52238]: [ 7] method 5: mail 1: a non-contention part not spam, mail not spam Sep 12 12:04:19.273257 check[52238]: [ 3] mail 1 is not known spam. Sep 12 12:04:19.273578 check[52238]: [ 5] disconnecting from server apt.cloudmark.com Sep 12 12:04:19.273982 check[52238]: [ 4] apt.cloudmark.com << 5 Sep 12 12:04:19.274203 check[52238]: [ 6] a=q Sep 12 12:04:19.274585 check[52238]: [ 8] razor-check finished successfully. --- david raistrick drais@atlasta.net http://www.expita.com/nomime.html ------------------------------------------------------- This sf.net email is sponsored by:ThinkGeek Welcome to geek heaven. http://thinkgeek.com/sf _______________________________________________ Razor-users mailing list Razor-users@lists.sourceforge.net https://lists.sourceforge.net/lists/listinfo/razor-users',\n",
       "       'From rssfeeds@jmason.org Mon Sep 30 13:44:10 2002 Return-Path: <rssfeeds@spamassassin.taint.org> Delivered-To: yyyy@localhost.spamassassin.taint.org Received: from localhost (jalapeno [127.0.0.1]) by jmason.org (Postfix) with ESMTP id 8524016F03 for <jm@localhost>; Mon, 30 Sep 2002 13:44:10 +0100 (IST) Received: from jalapeno [127.0.0.1] by localhost with IMAP (fetchmail-5.9.0) for jm@localhost (single-drop); Mon, 30 Sep 2002 13:44:10 +0100 (IST) Received: from dogma.slashnull.org (localhost [127.0.0.1]) by dogma.slashnull.org (8.11.6/8.11.6) with ESMTP id g8U81gg21362 for <jm@jmason.org>; Mon, 30 Sep 2002 09:01:42 +0100 Message-Id: <200209300801.g8U81gg21362@dogma.slashnull.org> To: yyyy@spamassassin.taint.org From: gamasutra <rssfeeds@spamassassin.taint.org> Subject: Are you being Freeserved? Date: Mon, 30 Sep 2002 08:01:42 -0000 Content-Type: text/plain; encoding=utf-8 URL: http://www.newsisfree.com/click/-1,8381146,215/ Date: 2002-09-30T03:04:57+01:00 *Internet news:* Can Freeserve hold on to its position as the ISP that most Britons dial up to, asks Kate Bulkley.'],\n",
       "      dtype=object)"
      ]
     },
     "execution_count": 11,
     "metadata": {},
     "output_type": "execute_result"
    }
   ],
   "source": [
    "x"
   ]
  },
  {
   "cell_type": "code",
   "execution_count": 12,
   "id": "9b9d0670",
   "metadata": {},
   "outputs": [],
   "source": [
    "y=df.sp_ha.values"
   ]
  },
  {
   "cell_type": "code",
   "execution_count": 13,
   "id": "ebce5e6f",
   "metadata": {},
   "outputs": [
    {
     "data": {
      "text/plain": [
       "array(['0', '1', '1', ..., '1', '0', '0'], dtype=object)"
      ]
     },
     "execution_count": 13,
     "metadata": {},
     "output_type": "execute_result"
    }
   ],
   "source": [
    "y"
   ]
  },
  {
   "cell_type": "code",
   "execution_count": null,
   "id": "6c756ec8",
   "metadata": {},
   "outputs": [],
   "source": []
  },
  {
   "cell_type": "code",
   "execution_count": 14,
   "id": "5e5bd6a4",
   "metadata": {},
   "outputs": [],
   "source": [
    "#split dataset"
   ]
  },
  {
   "cell_type": "code",
   "execution_count": 15,
   "id": "7e3dbb7a",
   "metadata": {},
   "outputs": [],
   "source": [
    "from sklearn.model_selection import train_test_split\n",
    "xtrain,xtest,ytrain,ytest=train_test_split(x,y,test_size =0.2)"
   ]
  },
  {
   "cell_type": "code",
   "execution_count": null,
   "id": "f7585682",
   "metadata": {},
   "outputs": [],
   "source": []
  },
  {
   "cell_type": "code",
   "execution_count": 16,
   "id": "823f29b8",
   "metadata": {},
   "outputs": [],
   "source": [
    "from sklearn.feature_extraction.text import CountVectorizer\n",
    "cv= CountVectorizer()"
   ]
  },
  {
   "cell_type": "code",
   "execution_count": 17,
   "id": "2425319b",
   "metadata": {},
   "outputs": [],
   "source": [
    "x_train=cv.fit_transform(xtrain)"
   ]
  },
  {
   "cell_type": "code",
   "execution_count": 18,
   "id": "ded23725",
   "metadata": {},
   "outputs": [
    {
     "data": {
      "text/plain": [
       "array([[ 1,  2,  3, ...,  0,  0,  0],\n",
       "       [19, 12,  0, ...,  0,  0,  0],\n",
       "       [ 1,  0,  0, ...,  0,  0,  2],\n",
       "       ...,\n",
       "       [ 0,  0,  1, ...,  0,  0,  0],\n",
       "       [ 2,  1,  3, ...,  0,  0,  0],\n",
       "       [ 0,  0,  0, ...,  0,  0,  0]], dtype=int64)"
      ]
     },
     "execution_count": 18,
     "metadata": {},
     "output_type": "execute_result"
    }
   ],
   "source": [
    "x_train.toarray()"
   ]
  },
  {
   "cell_type": "code",
   "execution_count": 19,
   "id": "1e2b9abb",
   "metadata": {},
   "outputs": [],
   "source": [
    "from sklearn.naive_bayes import MultinomialNB"
   ]
  },
  {
   "cell_type": "code",
   "execution_count": 20,
   "id": "0fe85193",
   "metadata": {},
   "outputs": [
    {
     "data": {
      "text/plain": [
       "MultinomialNB()"
      ]
     },
     "execution_count": 20,
     "metadata": {},
     "output_type": "execute_result"
    }
   ],
   "source": [
    "model=MultinomialNB()\n",
    "model.fit(x_train,ytrain)"
   ]
  },
  {
   "cell_type": "code",
   "execution_count": 21,
   "id": "95f706cb",
   "metadata": {},
   "outputs": [],
   "source": [
    "x_test= cv.transform(xtest)"
   ]
  },
  {
   "cell_type": "code",
   "execution_count": 22,
   "id": "f826cb90",
   "metadata": {},
   "outputs": [
    {
     "data": {
      "text/plain": [
       "array([[1, 1, 1, ..., 0, 0, 0],\n",
       "       [0, 4, 0, ..., 0, 0, 0],\n",
       "       [1, 0, 0, ..., 0, 0, 0],\n",
       "       ...,\n",
       "       [0, 0, 1, ..., 0, 0, 0],\n",
       "       [0, 1, 0, ..., 0, 0, 0],\n",
       "       [0, 0, 2, ..., 0, 0, 0]], dtype=int64)"
      ]
     },
     "execution_count": 22,
     "metadata": {},
     "output_type": "execute_result"
    }
   ],
   "source": [
    "x_test.toarray()"
   ]
  },
  {
   "cell_type": "code",
   "execution_count": 23,
   "id": "8357485e",
   "metadata": {},
   "outputs": [],
   "source": [
    "Acq=model.score(x_test,ytest)"
   ]
  },
  {
   "cell_type": "code",
   "execution_count": 24,
   "id": "aa536a10",
   "metadata": {},
   "outputs": [
    {
     "data": {
      "text/plain": [
       "0.9746478873239437"
      ]
     },
     "execution_count": 24,
     "metadata": {},
     "output_type": "execute_result"
    }
   ],
   "source": [
    "Acq"
   ]
  },
  {
   "cell_type": "code",
   "execution_count": null,
   "id": "025ed7f0",
   "metadata": {},
   "outputs": [],
   "source": []
  },
  {
   "cell_type": "code",
   "execution_count": 25,
   "id": "0a30780a",
   "metadata": {},
   "outputs": [],
   "source": [
    "email=['hey,Hi Israk Hasan Jone,''Improve your skills with this challenge']"
   ]
  },
  {
   "cell_type": "code",
   "execution_count": 26,
   "id": "a2c0b9c9",
   "metadata": {},
   "outputs": [],
   "source": [
    "cv_email=cv.transform(email)"
   ]
  },
  {
   "cell_type": "code",
   "execution_count": 27,
   "id": "1d8f92ea",
   "metadata": {},
   "outputs": [],
   "source": [
    "spam_or_ham=model.predict(cv_email)"
   ]
  },
  {
   "cell_type": "code",
   "execution_count": 28,
   "id": "3e611cd9",
   "metadata": {},
   "outputs": [
    {
     "data": {
      "text/plain": [
       "array(['1'], dtype='<U521')"
      ]
     },
     "execution_count": 28,
     "metadata": {},
     "output_type": "execute_result"
    }
   ],
   "source": [
    "spam_or_ham"
   ]
  },
  {
   "cell_type": "code",
   "execution_count": null,
   "id": "90a33e38",
   "metadata": {},
   "outputs": [],
   "source": []
  },
  {
   "cell_type": "code",
   "execution_count": null,
   "id": "ed598e9f",
   "metadata": {},
   "outputs": [],
   "source": []
  },
  {
   "cell_type": "code",
   "execution_count": null,
   "id": "a8da75be",
   "metadata": {},
   "outputs": [],
   "source": []
  },
  {
   "cell_type": "code",
   "execution_count": null,
   "id": "7b3375cf",
   "metadata": {},
   "outputs": [],
   "source": []
  }
 ],
 "metadata": {
  "kernelspec": {
   "display_name": "Python 3 (ipykernel)",
   "language": "python",
   "name": "python3"
  },
  "language_info": {
   "codemirror_mode": {
    "name": "ipython",
    "version": 3
   },
   "file_extension": ".py",
   "mimetype": "text/x-python",
   "name": "python",
   "nbconvert_exporter": "python",
   "pygments_lexer": "ipython3",
   "version": "3.9.13"
  }
 },
 "nbformat": 4,
 "nbformat_minor": 5
}
